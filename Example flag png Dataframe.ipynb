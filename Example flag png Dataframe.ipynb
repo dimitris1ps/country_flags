{
 "cells": [
  {
   "cell_type": "code",
   "execution_count": 1,
   "metadata": {
    "ExecuteTime": {
     "end_time": "2020-09-15T21:00:17.219149Z",
     "start_time": "2020-09-15T21:00:16.399723Z"
    }
   },
   "outputs": [
    {
     "data": {
      "text/html": [
       "<style> div#notebook-container { width: 80%; }  </style> "
      ],
      "text/plain": [
       "<IPython.core.display.HTML object>"
      ]
     },
     "metadata": {},
     "output_type": "display_data"
    }
   ],
   "source": [
    "# Increase discplay size of jupyter notebook cells\n",
    "from IPython.display import display, HTML, IFrame\n",
    "display(HTML(\"<style> div#notebook-container { width: 80%; }  </style> \"))\n",
    "\n",
    "import pandas as pd\n",
    "\n",
    "# Print everything from the code cell\n",
    "from IPython.core.interactiveshell import InteractiveShell\n",
    "InteractiveShell.ast_node_interactivity = \"all\"\n",
    "\n",
    "# print all column width\n",
    "pd.options.display.max_colwidth = 1000"
   ]
  },
  {
   "cell_type": "code",
   "execution_count": 2,
   "metadata": {
    "ExecuteTime": {
     "end_time": "2020-09-15T21:00:19.244465Z",
     "start_time": "2020-09-15T21:00:18.703921Z"
    }
   },
   "outputs": [],
   "source": [
    "# read in png flag urls dataset\n",
    "df_flags = pd.read_csv('https://raw.githubusercontent.com/dimitris1ps/country_flags/master/countries_flags.csv')"
   ]
  },
  {
   "cell_type": "code",
   "execution_count": 3,
   "metadata": {
    "ExecuteTime": {
     "end_time": "2020-09-15T21:00:19.934075Z",
     "start_time": "2020-09-15T21:00:19.902595Z"
    }
   },
   "outputs": [],
   "source": [
    "# set attributes to img\n",
    "df_flags['Flag']  = list('<img src=\"'+ df_flags['Flag']  + '\" width=\"40\" >')"
   ]
  },
  {
   "cell_type": "code",
   "execution_count": 4,
   "metadata": {
    "ExecuteTime": {
     "end_time": "2020-09-15T21:00:21.177368Z",
     "start_time": "2020-09-15T21:00:21.161499Z"
    }
   },
   "outputs": [
    {
     "data": {
      "text/html": [
       "<div>\n",
       "<style scoped>\n",
       "    .dataframe tbody tr th:only-of-type {\n",
       "        vertical-align: middle;\n",
       "    }\n",
       "\n",
       "    .dataframe tbody tr th {\n",
       "        vertical-align: top;\n",
       "    }\n",
       "\n",
       "    .dataframe thead th {\n",
       "        text-align: right;\n",
       "    }\n",
       "</style>\n",
       "<table border=\"1\" class=\"dataframe\">\n",
       "  <thead>\n",
       "    <tr style=\"text-align: right;\">\n",
       "      <th></th>\n",
       "      <th>Country</th>\n",
       "      <th>Code</th>\n",
       "      <th>Flag</th>\n",
       "    </tr>\n",
       "  </thead>\n",
       "  <tbody>\n",
       "    <tr>\n",
       "      <th>0</th>\n",
       "      <td>Afghanistan</td>\n",
       "      <td>AF</td>\n",
       "      <td>&lt;img src=\"https://raw.githubusercontent.com/dimitris1ps/country_flags/master/flags/flag-of-Afghanistan.png\" width=\"40\" &gt;</td>\n",
       "    </tr>\n",
       "    <tr>\n",
       "      <th>1</th>\n",
       "      <td>Albania</td>\n",
       "      <td>AL</td>\n",
       "      <td>&lt;img src=\"https://raw.githubusercontent.com/dimitris1ps/country_flags/master/flags/flag-of-Albania.png\" width=\"40\" &gt;</td>\n",
       "    </tr>\n",
       "    <tr>\n",
       "      <th>2</th>\n",
       "      <td>Algeria</td>\n",
       "      <td>DZ</td>\n",
       "      <td>&lt;img src=\"https://raw.githubusercontent.com/dimitris1ps/country_flags/master/flags/flag-of-Algeria.png\" width=\"40\" &gt;</td>\n",
       "    </tr>\n",
       "    <tr>\n",
       "      <th>3</th>\n",
       "      <td>Andorra</td>\n",
       "      <td>AD</td>\n",
       "      <td>&lt;img src=\"https://raw.githubusercontent.com/dimitris1ps/country_flags/master/flags/flag-of-Andorra.png\" width=\"40\" &gt;</td>\n",
       "    </tr>\n",
       "    <tr>\n",
       "      <th>4</th>\n",
       "      <td>Angola</td>\n",
       "      <td>AO</td>\n",
       "      <td>&lt;img src=\"https://raw.githubusercontent.com/dimitris1ps/country_flags/master/flags/flag-of-Angola.png\" width=\"40\" &gt;</td>\n",
       "    </tr>\n",
       "  </tbody>\n",
       "</table>\n",
       "</div>"
      ],
      "text/plain": [
       "       Country Code  \\\n",
       "0  Afghanistan   AF   \n",
       "1      Albania   AL   \n",
       "2      Algeria   DZ   \n",
       "3      Andorra   AD   \n",
       "4       Angola   AO   \n",
       "\n",
       "                                                                                                                       Flag  \n",
       "0  <img src=\"https://raw.githubusercontent.com/dimitris1ps/country_flags/master/flags/flag-of-Afghanistan.png\" width=\"40\" >  \n",
       "1      <img src=\"https://raw.githubusercontent.com/dimitris1ps/country_flags/master/flags/flag-of-Albania.png\" width=\"40\" >  \n",
       "2      <img src=\"https://raw.githubusercontent.com/dimitris1ps/country_flags/master/flags/flag-of-Algeria.png\" width=\"40\" >  \n",
       "3      <img src=\"https://raw.githubusercontent.com/dimitris1ps/country_flags/master/flags/flag-of-Andorra.png\" width=\"40\" >  \n",
       "4       <img src=\"https://raw.githubusercontent.com/dimitris1ps/country_flags/master/flags/flag-of-Angola.png\" width=\"40\" >  "
      ]
     },
     "execution_count": 4,
     "metadata": {},
     "output_type": "execute_result"
    }
   ],
   "source": [
    "df_flags.head()"
   ]
  },
  {
   "cell_type": "code",
   "execution_count": 5,
   "metadata": {
    "ExecuteTime": {
     "end_time": "2020-09-15T21:00:22.483167Z",
     "start_time": "2020-09-15T21:00:22.470962Z"
    }
   },
   "outputs": [],
   "source": [
    "# dummy data\n",
    "df = pd.DataFrame({'x':[1, 2, 3, 4, 5], 'y':[5, 4, 3, 2, 1]}, index=['GB', 'DE', 'FR', 'IT', 'GR'])"
   ]
  },
  {
   "cell_type": "code",
   "execution_count": 6,
   "metadata": {
    "ExecuteTime": {
     "end_time": "2020-09-15T21:00:23.595531Z",
     "start_time": "2020-09-15T21:00:23.578876Z"
    }
   },
   "outputs": [
    {
     "data": {
      "text/html": [
       "<div>\n",
       "<style scoped>\n",
       "    .dataframe tbody tr th:only-of-type {\n",
       "        vertical-align: middle;\n",
       "    }\n",
       "\n",
       "    .dataframe tbody tr th {\n",
       "        vertical-align: top;\n",
       "    }\n",
       "\n",
       "    .dataframe thead th {\n",
       "        text-align: right;\n",
       "    }\n",
       "</style>\n",
       "<table border=\"1\" class=\"dataframe\">\n",
       "  <thead>\n",
       "    <tr style=\"text-align: right;\">\n",
       "      <th></th>\n",
       "      <th>x</th>\n",
       "      <th>y</th>\n",
       "    </tr>\n",
       "  </thead>\n",
       "  <tbody>\n",
       "    <tr>\n",
       "      <th>GB</th>\n",
       "      <td>1</td>\n",
       "      <td>5</td>\n",
       "    </tr>\n",
       "    <tr>\n",
       "      <th>DE</th>\n",
       "      <td>2</td>\n",
       "      <td>4</td>\n",
       "    </tr>\n",
       "    <tr>\n",
       "      <th>FR</th>\n",
       "      <td>3</td>\n",
       "      <td>3</td>\n",
       "    </tr>\n",
       "    <tr>\n",
       "      <th>IT</th>\n",
       "      <td>4</td>\n",
       "      <td>2</td>\n",
       "    </tr>\n",
       "    <tr>\n",
       "      <th>GR</th>\n",
       "      <td>5</td>\n",
       "      <td>1</td>\n",
       "    </tr>\n",
       "  </tbody>\n",
       "</table>\n",
       "</div>"
      ],
      "text/plain": [
       "    x  y\n",
       "GB  1  5\n",
       "DE  2  4\n",
       "FR  3  3\n",
       "IT  4  2\n",
       "GR  5  1"
      ]
     },
     "execution_count": 6,
     "metadata": {},
     "output_type": "execute_result"
    }
   ],
   "source": [
    "df"
   ]
  },
  {
   "cell_type": "code",
   "execution_count": 7,
   "metadata": {
    "ExecuteTime": {
     "end_time": "2020-09-15T21:00:24.653588Z",
     "start_time": "2020-09-15T21:00:24.641470Z"
    }
   },
   "outputs": [],
   "source": [
    "# kepp relevant countries\n",
    "flags_dict = df_flags.loc[df_flags['Code'].isin(df.index), ['Code', 'Flag']].set_index('Code').to_dict()['Flag']"
   ]
  },
  {
   "cell_type": "code",
   "execution_count": 8,
   "metadata": {
    "ExecuteTime": {
     "end_time": "2020-09-15T21:00:25.773615Z",
     "start_time": "2020-09-15T21:00:25.765076Z"
    }
   },
   "outputs": [
    {
     "data": {
      "text/plain": [
       "{'FR': '<img src=\"https://raw.githubusercontent.com/dimitris1ps/country_flags/master/flags/flag-of-France.png\" width=\"40\" >',\n",
       " 'DE': '<img src=\"https://raw.githubusercontent.com/dimitris1ps/country_flags/master/flags/flag-of-Germany.png\" width=\"40\" >',\n",
       " 'GR': '<img src=\"https://raw.githubusercontent.com/dimitris1ps/country_flags/master/flags/flag-of-Greece.png\" width=\"40\" >',\n",
       " 'IT': '<img src=\"https://raw.githubusercontent.com/dimitris1ps/country_flags/master/flags/flag-of-Italy.png\" width=\"40\" >',\n",
       " 'GB': '<img src=\"https://raw.githubusercontent.com/dimitris1ps/country_flags/master/flags/flag-of-United-Kingdom.png\" width=\"40\" >'}"
      ]
     },
     "execution_count": 8,
     "metadata": {},
     "output_type": "execute_result"
    }
   ],
   "source": [
    "flags_dict"
   ]
  },
  {
   "cell_type": "code",
   "execution_count": 9,
   "metadata": {
    "ExecuteTime": {
     "end_time": "2020-09-15T21:00:26.975742Z",
     "start_time": "2020-09-15T21:00:26.971333Z"
    }
   },
   "outputs": [],
   "source": [
    "# replae countries with img tag\n",
    "df.index = df.index.map(flags_dict)"
   ]
  },
  {
   "cell_type": "code",
   "execution_count": 10,
   "metadata": {
    "ExecuteTime": {
     "end_time": "2020-09-15T21:00:28.520998Z",
     "start_time": "2020-09-15T21:00:28.508937Z"
    }
   },
   "outputs": [
    {
     "data": {
      "text/html": [
       "<div>\n",
       "<style scoped>\n",
       "    .dataframe tbody tr th:only-of-type {\n",
       "        vertical-align: middle;\n",
       "    }\n",
       "\n",
       "    .dataframe tbody tr th {\n",
       "        vertical-align: top;\n",
       "    }\n",
       "\n",
       "    .dataframe thead th {\n",
       "        text-align: right;\n",
       "    }\n",
       "</style>\n",
       "<table border=\"1\" class=\"dataframe\">\n",
       "  <thead>\n",
       "    <tr style=\"text-align: right;\">\n",
       "      <th></th>\n",
       "      <th>x</th>\n",
       "      <th>y</th>\n",
       "    </tr>\n",
       "  </thead>\n",
       "  <tbody>\n",
       "    <tr>\n",
       "      <th>&lt;img src=\"https://raw.githubusercontent.com/dimitris1ps/country_flags/master/flags/flag-of-United-Kingdom.png\" width=\"40\" &gt;</th>\n",
       "      <td>1</td>\n",
       "      <td>5</td>\n",
       "    </tr>\n",
       "    <tr>\n",
       "      <th>&lt;img src=\"https://raw.githubusercontent.com/dimitris1ps/country_flags/master/flags/flag-of-Germany.png\" width=\"40\" &gt;</th>\n",
       "      <td>2</td>\n",
       "      <td>4</td>\n",
       "    </tr>\n",
       "    <tr>\n",
       "      <th>&lt;img src=\"https://raw.githubusercontent.com/dimitris1ps/country_flags/master/flags/flag-of-France.png\" width=\"40\" &gt;</th>\n",
       "      <td>3</td>\n",
       "      <td>3</td>\n",
       "    </tr>\n",
       "    <tr>\n",
       "      <th>&lt;img src=\"https://raw.githubusercontent.com/dimitris1ps/country_flags/master/flags/flag-of-Italy.png\" width=\"40\" &gt;</th>\n",
       "      <td>4</td>\n",
       "      <td>2</td>\n",
       "    </tr>\n",
       "    <tr>\n",
       "      <th>&lt;img src=\"https://raw.githubusercontent.com/dimitris1ps/country_flags/master/flags/flag-of-Greece.png\" width=\"40\" &gt;</th>\n",
       "      <td>5</td>\n",
       "      <td>1</td>\n",
       "    </tr>\n",
       "  </tbody>\n",
       "</table>\n",
       "</div>"
      ],
      "text/plain": [
       "                                                                                                                             x  \\\n",
       "<img src=\"https://raw.githubusercontent.com/dimitris1ps/country_flags/master/flags/flag-of-United-Kingdom.png\" width=\"40\" >  1   \n",
       "<img src=\"https://raw.githubusercontent.com/dimitris1ps/country_flags/master/flags/flag-of-Germany.png\" width=\"40\" >         2   \n",
       "<img src=\"https://raw.githubusercontent.com/dimitris1ps/country_flags/master/flags/flag-of-France.png\" width=\"40\" >          3   \n",
       "<img src=\"https://raw.githubusercontent.com/dimitris1ps/country_flags/master/flags/flag-of-Italy.png\" width=\"40\" >           4   \n",
       "<img src=\"https://raw.githubusercontent.com/dimitris1ps/country_flags/master/flags/flag-of-Greece.png\" width=\"40\" >          5   \n",
       "\n",
       "                                                                                                                             y  \n",
       "<img src=\"https://raw.githubusercontent.com/dimitris1ps/country_flags/master/flags/flag-of-United-Kingdom.png\" width=\"40\" >  5  \n",
       "<img src=\"https://raw.githubusercontent.com/dimitris1ps/country_flags/master/flags/flag-of-Germany.png\" width=\"40\" >         4  \n",
       "<img src=\"https://raw.githubusercontent.com/dimitris1ps/country_flags/master/flags/flag-of-France.png\" width=\"40\" >          3  \n",
       "<img src=\"https://raw.githubusercontent.com/dimitris1ps/country_flags/master/flags/flag-of-Italy.png\" width=\"40\" >           2  \n",
       "<img src=\"https://raw.githubusercontent.com/dimitris1ps/country_flags/master/flags/flag-of-Greece.png\" width=\"40\" >          1  "
      ]
     },
     "execution_count": 10,
     "metadata": {},
     "output_type": "execute_result"
    }
   ],
   "source": [
    "df"
   ]
  },
  {
   "cell_type": "code",
   "execution_count": 11,
   "metadata": {
    "ExecuteTime": {
     "end_time": "2020-09-15T21:00:30.519992Z",
     "start_time": "2020-09-15T21:00:29.830745Z"
    }
   },
   "outputs": [
    {
     "data": {
      "text/html": [
       "<style  type=\"text/css\" >\n",
       "    #T_7d26f038_f796_11ea_b4fc_4074e05fbc83row0_col0 {\n",
       "            text-align:  center;\n",
       "        }    #T_7d26f038_f796_11ea_b4fc_4074e05fbc83row0_col1 {\n",
       "            text-align:  center;\n",
       "        }    #T_7d26f038_f796_11ea_b4fc_4074e05fbc83row1_col0 {\n",
       "            text-align:  center;\n",
       "        }    #T_7d26f038_f796_11ea_b4fc_4074e05fbc83row1_col1 {\n",
       "            text-align:  center;\n",
       "        }    #T_7d26f038_f796_11ea_b4fc_4074e05fbc83row2_col0 {\n",
       "            text-align:  center;\n",
       "        }    #T_7d26f038_f796_11ea_b4fc_4074e05fbc83row2_col1 {\n",
       "            text-align:  center;\n",
       "        }    #T_7d26f038_f796_11ea_b4fc_4074e05fbc83row3_col0 {\n",
       "            text-align:  center;\n",
       "        }    #T_7d26f038_f796_11ea_b4fc_4074e05fbc83row3_col1 {\n",
       "            text-align:  center;\n",
       "        }    #T_7d26f038_f796_11ea_b4fc_4074e05fbc83row4_col0 {\n",
       "            text-align:  center;\n",
       "        }    #T_7d26f038_f796_11ea_b4fc_4074e05fbc83row4_col1 {\n",
       "            text-align:  center;\n",
       "        }</style><table id=\"T_7d26f038_f796_11ea_b4fc_4074e05fbc83\" ><thead>    <tr>        <th class=\"blank level0\" ></th>        <th class=\"col_heading level0 col0\" >x</th>        <th class=\"col_heading level0 col1\" >y</th>    </tr></thead><tbody>\n",
       "                <tr>\n",
       "                        <th id=\"T_7d26f038_f796_11ea_b4fc_4074e05fbc83level0_row0\" class=\"row_heading level0 row0\" ><img src=\"https://raw.githubusercontent.com/dimitris1ps/country_flags/master/flags/flag-of-United-Kingdom.png\" width=\"40\" ></th>\n",
       "                        <td id=\"T_7d26f038_f796_11ea_b4fc_4074e05fbc83row0_col0\" class=\"data row0 col0\" >1</td>\n",
       "                        <td id=\"T_7d26f038_f796_11ea_b4fc_4074e05fbc83row0_col1\" class=\"data row0 col1\" >5</td>\n",
       "            </tr>\n",
       "            <tr>\n",
       "                        <th id=\"T_7d26f038_f796_11ea_b4fc_4074e05fbc83level0_row1\" class=\"row_heading level0 row1\" ><img src=\"https://raw.githubusercontent.com/dimitris1ps/country_flags/master/flags/flag-of-Germany.png\" width=\"40\" ></th>\n",
       "                        <td id=\"T_7d26f038_f796_11ea_b4fc_4074e05fbc83row1_col0\" class=\"data row1 col0\" >2</td>\n",
       "                        <td id=\"T_7d26f038_f796_11ea_b4fc_4074e05fbc83row1_col1\" class=\"data row1 col1\" >4</td>\n",
       "            </tr>\n",
       "            <tr>\n",
       "                        <th id=\"T_7d26f038_f796_11ea_b4fc_4074e05fbc83level0_row2\" class=\"row_heading level0 row2\" ><img src=\"https://raw.githubusercontent.com/dimitris1ps/country_flags/master/flags/flag-of-France.png\" width=\"40\" ></th>\n",
       "                        <td id=\"T_7d26f038_f796_11ea_b4fc_4074e05fbc83row2_col0\" class=\"data row2 col0\" >3</td>\n",
       "                        <td id=\"T_7d26f038_f796_11ea_b4fc_4074e05fbc83row2_col1\" class=\"data row2 col1\" >3</td>\n",
       "            </tr>\n",
       "            <tr>\n",
       "                        <th id=\"T_7d26f038_f796_11ea_b4fc_4074e05fbc83level0_row3\" class=\"row_heading level0 row3\" ><img src=\"https://raw.githubusercontent.com/dimitris1ps/country_flags/master/flags/flag-of-Italy.png\" width=\"40\" ></th>\n",
       "                        <td id=\"T_7d26f038_f796_11ea_b4fc_4074e05fbc83row3_col0\" class=\"data row3 col0\" >4</td>\n",
       "                        <td id=\"T_7d26f038_f796_11ea_b4fc_4074e05fbc83row3_col1\" class=\"data row3 col1\" >2</td>\n",
       "            </tr>\n",
       "            <tr>\n",
       "                        <th id=\"T_7d26f038_f796_11ea_b4fc_4074e05fbc83level0_row4\" class=\"row_heading level0 row4\" ><img src=\"https://raw.githubusercontent.com/dimitris1ps/country_flags/master/flags/flag-of-Greece.png\" width=\"40\" ></th>\n",
       "                        <td id=\"T_7d26f038_f796_11ea_b4fc_4074e05fbc83row4_col0\" class=\"data row4 col0\" >5</td>\n",
       "                        <td id=\"T_7d26f038_f796_11ea_b4fc_4074e05fbc83row4_col1\" class=\"data row4 col1\" >1</td>\n",
       "            </tr>\n",
       "    </tbody></table>"
      ],
      "text/plain": [
       "<pandas.io.formats.style.Styler at 0x1ecdcfd3c48>"
      ]
     },
     "execution_count": 11,
     "metadata": {},
     "output_type": "execute_result"
    }
   ],
   "source": [
    "# print as html\n",
    "df.style.set_properties(**{'text-align': 'center'})"
   ]
  },
  {
   "cell_type": "code",
   "execution_count": 12,
   "metadata": {
    "ExecuteTime": {
     "end_time": "2020-09-15T21:00:31.639800Z",
     "start_time": "2020-09-15T21:00:31.619159Z"
    }
   },
   "outputs": [
    {
     "data": {
      "text/html": [
       "<style  type=\"text/css\" >\n",
       "    #T_7dd27ed2_f796_11ea_b5e2_4074e05fbc83row0_col0 {\n",
       "            text-align:  center;\n",
       "        }    #T_7dd27ed2_f796_11ea_b5e2_4074e05fbc83row0_col1 {\n",
       "            text-align:  center;\n",
       "        }    #T_7dd27ed2_f796_11ea_b5e2_4074e05fbc83row0_col2 {\n",
       "            text-align:  center;\n",
       "        }    #T_7dd27ed2_f796_11ea_b5e2_4074e05fbc83row0_col3 {\n",
       "            text-align:  center;\n",
       "        }    #T_7dd27ed2_f796_11ea_b5e2_4074e05fbc83row0_col4 {\n",
       "            text-align:  center;\n",
       "        }    #T_7dd27ed2_f796_11ea_b5e2_4074e05fbc83row1_col0 {\n",
       "            text-align:  center;\n",
       "        }    #T_7dd27ed2_f796_11ea_b5e2_4074e05fbc83row1_col1 {\n",
       "            text-align:  center;\n",
       "        }    #T_7dd27ed2_f796_11ea_b5e2_4074e05fbc83row1_col2 {\n",
       "            text-align:  center;\n",
       "        }    #T_7dd27ed2_f796_11ea_b5e2_4074e05fbc83row1_col3 {\n",
       "            text-align:  center;\n",
       "        }    #T_7dd27ed2_f796_11ea_b5e2_4074e05fbc83row1_col4 {\n",
       "            text-align:  center;\n",
       "        }</style><table id=\"T_7dd27ed2_f796_11ea_b5e2_4074e05fbc83\" ><thead>    <tr>        <th class=\"blank level0\" ></th>        <th class=\"col_heading level0 col0\" ><img src=\"https://raw.githubusercontent.com/dimitris1ps/country_flags/master/flags/flag-of-United-Kingdom.png\" width=\"40\" ></th>        <th class=\"col_heading level0 col1\" ><img src=\"https://raw.githubusercontent.com/dimitris1ps/country_flags/master/flags/flag-of-Germany.png\" width=\"40\" ></th>        <th class=\"col_heading level0 col2\" ><img src=\"https://raw.githubusercontent.com/dimitris1ps/country_flags/master/flags/flag-of-France.png\" width=\"40\" ></th>        <th class=\"col_heading level0 col3\" ><img src=\"https://raw.githubusercontent.com/dimitris1ps/country_flags/master/flags/flag-of-Italy.png\" width=\"40\" ></th>        <th class=\"col_heading level0 col4\" ><img src=\"https://raw.githubusercontent.com/dimitris1ps/country_flags/master/flags/flag-of-Greece.png\" width=\"40\" ></th>    </tr></thead><tbody>\n",
       "                <tr>\n",
       "                        <th id=\"T_7dd27ed2_f796_11ea_b5e2_4074e05fbc83level0_row0\" class=\"row_heading level0 row0\" >x</th>\n",
       "                        <td id=\"T_7dd27ed2_f796_11ea_b5e2_4074e05fbc83row0_col0\" class=\"data row0 col0\" >1</td>\n",
       "                        <td id=\"T_7dd27ed2_f796_11ea_b5e2_4074e05fbc83row0_col1\" class=\"data row0 col1\" >2</td>\n",
       "                        <td id=\"T_7dd27ed2_f796_11ea_b5e2_4074e05fbc83row0_col2\" class=\"data row0 col2\" >3</td>\n",
       "                        <td id=\"T_7dd27ed2_f796_11ea_b5e2_4074e05fbc83row0_col3\" class=\"data row0 col3\" >4</td>\n",
       "                        <td id=\"T_7dd27ed2_f796_11ea_b5e2_4074e05fbc83row0_col4\" class=\"data row0 col4\" >5</td>\n",
       "            </tr>\n",
       "            <tr>\n",
       "                        <th id=\"T_7dd27ed2_f796_11ea_b5e2_4074e05fbc83level0_row1\" class=\"row_heading level0 row1\" >y</th>\n",
       "                        <td id=\"T_7dd27ed2_f796_11ea_b5e2_4074e05fbc83row1_col0\" class=\"data row1 col0\" >5</td>\n",
       "                        <td id=\"T_7dd27ed2_f796_11ea_b5e2_4074e05fbc83row1_col1\" class=\"data row1 col1\" >4</td>\n",
       "                        <td id=\"T_7dd27ed2_f796_11ea_b5e2_4074e05fbc83row1_col2\" class=\"data row1 col2\" >3</td>\n",
       "                        <td id=\"T_7dd27ed2_f796_11ea_b5e2_4074e05fbc83row1_col3\" class=\"data row1 col3\" >2</td>\n",
       "                        <td id=\"T_7dd27ed2_f796_11ea_b5e2_4074e05fbc83row1_col4\" class=\"data row1 col4\" >1</td>\n",
       "            </tr>\n",
       "    </tbody></table>"
      ],
      "text/plain": [
       "<pandas.io.formats.style.Styler at 0x1ecdddc8588>"
      ]
     },
     "execution_count": 12,
     "metadata": {},
     "output_type": "execute_result"
    }
   ],
   "source": [
    "df.T.style.set_properties(**{'text-align': 'center'})"
   ]
  }
 ],
 "metadata": {
  "hide_input": false,
  "kernelspec": {
   "display_name": "Python 3",
   "language": "python",
   "name": "python3"
  },
  "language_info": {
   "codemirror_mode": {
    "name": "ipython",
    "version": 3
   },
   "file_extension": ".py",
   "mimetype": "text/x-python",
   "name": "python",
   "nbconvert_exporter": "python",
   "pygments_lexer": "ipython3",
   "version": "3.7.4"
  },
  "varInspector": {
   "cols": {
    "lenName": 16,
    "lenType": 16,
    "lenVar": 40
   },
   "kernels_config": {
    "python": {
     "delete_cmd_postfix": "",
     "delete_cmd_prefix": "del ",
     "library": "var_list.py",
     "varRefreshCmd": "print(var_dic_list())"
    },
    "r": {
     "delete_cmd_postfix": ") ",
     "delete_cmd_prefix": "rm(",
     "library": "var_list.r",
     "varRefreshCmd": "cat(var_dic_list()) "
    }
   },
   "types_to_exclude": [
    "module",
    "function",
    "builtin_function_or_method",
    "instance",
    "_Feature"
   ],
   "window_display": false
  }
 },
 "nbformat": 4,
 "nbformat_minor": 2
}

{
 "cells": [
  {
   "cell_type": "code",
   "execution_count": 1,
   "metadata": {
    "ExecuteTime": {
     "end_time": "2020-09-16T13:09:52.546512Z",
     "start_time": "2020-09-16T13:09:50.922037Z"
    }
   },
   "outputs": [
    {
     "data": {
      "text/html": [
       "<style> div#notebook-container { width: 80%; }  </style> "
      ],
      "text/plain": [
       "<IPython.core.display.HTML object>"
      ]
     },
     "metadata": {},
     "output_type": "display_data"
    }
   ],
   "source": [
    "# Increase discplay size of jupyter notebook cells\n",
    "from IPython.display import display, HTML, IFrame\n",
    "display(HTML(\"<style> div#notebook-container { width: 80%; }  </style> \"))\n",
    "\n",
    "import pandas as pd\n",
    "\n",
    "# Print everything from the code cell\n",
    "from IPython.core.interactiveshell import InteractiveShell\n",
    "InteractiveShell.ast_node_interactivity = \"all\"\n",
    "\n",
    "# print all column width\n",
    "pd.options.display.max_colwidth = 1000\n",
    "\n",
    "####################################################################\n",
    "\n",
    "from PIL import Image\n",
    "import requests\n",
    "from io import StringIO\n",
    "\n",
    "import matplotlib as mpl # for plotting\n",
    "from matplotlib import cm # for colours\n",
    "import matplotlib.pyplot as plt\n",
    "from matplotlib.offsetbox import OffsetImage, AnnotationBbox\n",
    "import matplotlib.image as mpimg\n",
    "import matplotlib.ticker as ticker\n",
    "\n"
   ]
  },
  {
   "cell_type": "code",
   "execution_count": 2,
   "metadata": {
    "ExecuteTime": {
     "end_time": "2020-09-16T13:09:52.901054Z",
     "start_time": "2020-09-16T13:09:52.548514Z"
    }
   },
   "outputs": [],
   "source": [
    "# read in png flag urls dataset\n",
    "df_flags = pd.read_csv('https://raw.githubusercontent.com/dimitris1ps/country_flags/master/countries_flags.csv')"
   ]
  },
  {
   "cell_type": "code",
   "execution_count": 3,
   "metadata": {
    "ExecuteTime": {
     "end_time": "2020-09-16T13:09:52.922310Z",
     "start_time": "2020-09-16T13:09:52.903058Z"
    }
   },
   "outputs": [],
   "source": [
    "# set attributes to img\n",
    "df_flags['Flag']  = list('<img src=\"'+ df_flags['Flag']  + '\" width=\"40\" >')"
   ]
  },
  {
   "cell_type": "code",
   "execution_count": 4,
   "metadata": {
    "ExecuteTime": {
     "end_time": "2020-09-16T13:09:52.939032Z",
     "start_time": "2020-09-16T13:09:52.924308Z"
    }
   },
   "outputs": [
    {
     "data": {
      "text/html": [
       "<div>\n",
       "<style scoped>\n",
       "    .dataframe tbody tr th:only-of-type {\n",
       "        vertical-align: middle;\n",
       "    }\n",
       "\n",
       "    .dataframe tbody tr th {\n",
       "        vertical-align: top;\n",
       "    }\n",
       "\n",
       "    .dataframe thead th {\n",
       "        text-align: right;\n",
       "    }\n",
       "</style>\n",
       "<table border=\"1\" class=\"dataframe\">\n",
       "  <thead>\n",
       "    <tr style=\"text-align: right;\">\n",
       "      <th></th>\n",
       "      <th>Country</th>\n",
       "      <th>Code</th>\n",
       "      <th>Flag</th>\n",
       "    </tr>\n",
       "  </thead>\n",
       "  <tbody>\n",
       "    <tr>\n",
       "      <th>0</th>\n",
       "      <td>Afghanistan</td>\n",
       "      <td>AF</td>\n",
       "      <td>&lt;img src=\"https://raw.githubusercontent.com/dimitris1ps/country_flags/master/flags/flag-of-Afghanistan.png\" width=\"40\" &gt;</td>\n",
       "    </tr>\n",
       "    <tr>\n",
       "      <th>1</th>\n",
       "      <td>Albania</td>\n",
       "      <td>AL</td>\n",
       "      <td>&lt;img src=\"https://raw.githubusercontent.com/dimitris1ps/country_flags/master/flags/flag-of-Albania.png\" width=\"40\" &gt;</td>\n",
       "    </tr>\n",
       "    <tr>\n",
       "      <th>2</th>\n",
       "      <td>Algeria</td>\n",
       "      <td>DZ</td>\n",
       "      <td>&lt;img src=\"https://raw.githubusercontent.com/dimitris1ps/country_flags/master/flags/flag-of-Algeria.png\" width=\"40\" &gt;</td>\n",
       "    </tr>\n",
       "    <tr>\n",
       "      <th>3</th>\n",
       "      <td>Andorra</td>\n",
       "      <td>AD</td>\n",
       "      <td>&lt;img src=\"https://raw.githubusercontent.com/dimitris1ps/country_flags/master/flags/flag-of-Andorra.png\" width=\"40\" &gt;</td>\n",
       "    </tr>\n",
       "    <tr>\n",
       "      <th>4</th>\n",
       "      <td>Angola</td>\n",
       "      <td>AO</td>\n",
       "      <td>&lt;img src=\"https://raw.githubusercontent.com/dimitris1ps/country_flags/master/flags/flag-of-Angola.png\" width=\"40\" &gt;</td>\n",
       "    </tr>\n",
       "  </tbody>\n",
       "</table>\n",
       "</div>"
      ],
      "text/plain": [
       "       Country Code  \\\n",
       "0  Afghanistan   AF   \n",
       "1      Albania   AL   \n",
       "2      Algeria   DZ   \n",
       "3      Andorra   AD   \n",
       "4       Angola   AO   \n",
       "\n",
       "                                                                                                                       Flag  \n",
       "0  <img src=\"https://raw.githubusercontent.com/dimitris1ps/country_flags/master/flags/flag-of-Afghanistan.png\" width=\"40\" >  \n",
       "1      <img src=\"https://raw.githubusercontent.com/dimitris1ps/country_flags/master/flags/flag-of-Albania.png\" width=\"40\" >  \n",
       "2      <img src=\"https://raw.githubusercontent.com/dimitris1ps/country_flags/master/flags/flag-of-Algeria.png\" width=\"40\" >  \n",
       "3      <img src=\"https://raw.githubusercontent.com/dimitris1ps/country_flags/master/flags/flag-of-Andorra.png\" width=\"40\" >  \n",
       "4       <img src=\"https://raw.githubusercontent.com/dimitris1ps/country_flags/master/flags/flag-of-Angola.png\" width=\"40\" >  "
      ]
     },
     "execution_count": 4,
     "metadata": {},
     "output_type": "execute_result"
    }
   ],
   "source": [
    "df_flags.head()"
   ]
  },
  {
   "cell_type": "code",
   "execution_count": 5,
   "metadata": {
    "ExecuteTime": {
     "end_time": "2020-09-16T13:09:52.956429Z",
     "start_time": "2020-09-16T13:09:52.940080Z"
    }
   },
   "outputs": [],
   "source": [
    "# dummy data\n",
    "df = pd.DataFrame({'x':[1, 2, 3, 4, 5], 'y':[5, 4, 3, 2, 1]}, index=['GB', 'DE', 'FR', 'IT', 'GR'])"
   ]
  },
  {
   "cell_type": "code",
   "execution_count": 6,
   "metadata": {
    "ExecuteTime": {
     "end_time": "2020-09-16T13:09:52.972907Z",
     "start_time": "2020-09-16T13:09:52.958936Z"
    }
   },
   "outputs": [
    {
     "data": {
      "text/html": [
       "<div>\n",
       "<style scoped>\n",
       "    .dataframe tbody tr th:only-of-type {\n",
       "        vertical-align: middle;\n",
       "    }\n",
       "\n",
       "    .dataframe tbody tr th {\n",
       "        vertical-align: top;\n",
       "    }\n",
       "\n",
       "    .dataframe thead th {\n",
       "        text-align: right;\n",
       "    }\n",
       "</style>\n",
       "<table border=\"1\" class=\"dataframe\">\n",
       "  <thead>\n",
       "    <tr style=\"text-align: right;\">\n",
       "      <th></th>\n",
       "      <th>x</th>\n",
       "      <th>y</th>\n",
       "    </tr>\n",
       "  </thead>\n",
       "  <tbody>\n",
       "    <tr>\n",
       "      <th>GB</th>\n",
       "      <td>1</td>\n",
       "      <td>5</td>\n",
       "    </tr>\n",
       "    <tr>\n",
       "      <th>DE</th>\n",
       "      <td>2</td>\n",
       "      <td>4</td>\n",
       "    </tr>\n",
       "    <tr>\n",
       "      <th>FR</th>\n",
       "      <td>3</td>\n",
       "      <td>3</td>\n",
       "    </tr>\n",
       "    <tr>\n",
       "      <th>IT</th>\n",
       "      <td>4</td>\n",
       "      <td>2</td>\n",
       "    </tr>\n",
       "    <tr>\n",
       "      <th>GR</th>\n",
       "      <td>5</td>\n",
       "      <td>1</td>\n",
       "    </tr>\n",
       "  </tbody>\n",
       "</table>\n",
       "</div>"
      ],
      "text/plain": [
       "    x  y\n",
       "GB  1  5\n",
       "DE  2  4\n",
       "FR  3  3\n",
       "IT  4  2\n",
       "GR  5  1"
      ]
     },
     "execution_count": 6,
     "metadata": {},
     "output_type": "execute_result"
    }
   ],
   "source": [
    "df"
   ]
  },
  {
   "cell_type": "code",
   "execution_count": 7,
   "metadata": {
    "ExecuteTime": {
     "end_time": "2020-09-16T13:09:52.989564Z",
     "start_time": "2020-09-16T13:09:52.975936Z"
    }
   },
   "outputs": [],
   "source": [
    "# kepp relevant countries\n",
    "flags_dict = df_flags[['Code', 'Flag']].set_index('Code').to_dict()['Flag']"
   ]
  },
  {
   "cell_type": "code",
   "execution_count": 8,
   "metadata": {
    "ExecuteTime": {
     "end_time": "2020-09-16T13:09:53.009671Z",
     "start_time": "2020-09-16T13:09:52.993983Z"
    }
   },
   "outputs": [],
   "source": [
    "# replae countries with img tag\n",
    "df.index = df.index.map(flags_dict)"
   ]
  },
  {
   "cell_type": "code",
   "execution_count": 9,
   "metadata": {
    "ExecuteTime": {
     "end_time": "2020-09-16T13:09:53.029646Z",
     "start_time": "2020-09-16T13:09:53.012667Z"
    }
   },
   "outputs": [
    {
     "data": {
      "text/html": [
       "<div>\n",
       "<style scoped>\n",
       "    .dataframe tbody tr th:only-of-type {\n",
       "        vertical-align: middle;\n",
       "    }\n",
       "\n",
       "    .dataframe tbody tr th {\n",
       "        vertical-align: top;\n",
       "    }\n",
       "\n",
       "    .dataframe thead th {\n",
       "        text-align: right;\n",
       "    }\n",
       "</style>\n",
       "<table border=\"1\" class=\"dataframe\">\n",
       "  <thead>\n",
       "    <tr style=\"text-align: right;\">\n",
       "      <th></th>\n",
       "      <th>x</th>\n",
       "      <th>y</th>\n",
       "    </tr>\n",
       "  </thead>\n",
       "  <tbody>\n",
       "    <tr>\n",
       "      <th>&lt;img src=\"https://raw.githubusercontent.com/dimitris1ps/country_flags/master/flags/flag-of-United-Kingdom.png\" width=\"40\" &gt;</th>\n",
       "      <td>1</td>\n",
       "      <td>5</td>\n",
       "    </tr>\n",
       "    <tr>\n",
       "      <th>&lt;img src=\"https://raw.githubusercontent.com/dimitris1ps/country_flags/master/flags/flag-of-Germany.png\" width=\"40\" &gt;</th>\n",
       "      <td>2</td>\n",
       "      <td>4</td>\n",
       "    </tr>\n",
       "    <tr>\n",
       "      <th>&lt;img src=\"https://raw.githubusercontent.com/dimitris1ps/country_flags/master/flags/flag-of-France.png\" width=\"40\" &gt;</th>\n",
       "      <td>3</td>\n",
       "      <td>3</td>\n",
       "    </tr>\n",
       "    <tr>\n",
       "      <th>&lt;img src=\"https://raw.githubusercontent.com/dimitris1ps/country_flags/master/flags/flag-of-Italy.png\" width=\"40\" &gt;</th>\n",
       "      <td>4</td>\n",
       "      <td>2</td>\n",
       "    </tr>\n",
       "    <tr>\n",
       "      <th>&lt;img src=\"https://raw.githubusercontent.com/dimitris1ps/country_flags/master/flags/flag-of-Greece.png\" width=\"40\" &gt;</th>\n",
       "      <td>5</td>\n",
       "      <td>1</td>\n",
       "    </tr>\n",
       "  </tbody>\n",
       "</table>\n",
       "</div>"
      ],
      "text/plain": [
       "                                                                                                                             x  \\\n",
       "<img src=\"https://raw.githubusercontent.com/dimitris1ps/country_flags/master/flags/flag-of-United-Kingdom.png\" width=\"40\" >  1   \n",
       "<img src=\"https://raw.githubusercontent.com/dimitris1ps/country_flags/master/flags/flag-of-Germany.png\" width=\"40\" >         2   \n",
       "<img src=\"https://raw.githubusercontent.com/dimitris1ps/country_flags/master/flags/flag-of-France.png\" width=\"40\" >          3   \n",
       "<img src=\"https://raw.githubusercontent.com/dimitris1ps/country_flags/master/flags/flag-of-Italy.png\" width=\"40\" >           4   \n",
       "<img src=\"https://raw.githubusercontent.com/dimitris1ps/country_flags/master/flags/flag-of-Greece.png\" width=\"40\" >          5   \n",
       "\n",
       "                                                                                                                             y  \n",
       "<img src=\"https://raw.githubusercontent.com/dimitris1ps/country_flags/master/flags/flag-of-United-Kingdom.png\" width=\"40\" >  5  \n",
       "<img src=\"https://raw.githubusercontent.com/dimitris1ps/country_flags/master/flags/flag-of-Germany.png\" width=\"40\" >         4  \n",
       "<img src=\"https://raw.githubusercontent.com/dimitris1ps/country_flags/master/flags/flag-of-France.png\" width=\"40\" >          3  \n",
       "<img src=\"https://raw.githubusercontent.com/dimitris1ps/country_flags/master/flags/flag-of-Italy.png\" width=\"40\" >           2  \n",
       "<img src=\"https://raw.githubusercontent.com/dimitris1ps/country_flags/master/flags/flag-of-Greece.png\" width=\"40\" >          1  "
      ]
     },
     "execution_count": 9,
     "metadata": {},
     "output_type": "execute_result"
    }
   ],
   "source": [
    "df"
   ]
  },
  {
   "cell_type": "code",
   "execution_count": 10,
   "metadata": {
    "ExecuteTime": {
     "end_time": "2020-09-16T13:09:53.154904Z",
     "start_time": "2020-09-16T13:09:53.032361Z"
    }
   },
   "outputs": [
    {
     "data": {
      "text/html": [
       "<style  type=\"text/css\" >\n",
       "    #T_e8c97374_f81d_11ea_984f_4074e05fbc83row0_col0 {\n",
       "            text-align:  center;\n",
       "        }    #T_e8c97374_f81d_11ea_984f_4074e05fbc83row0_col1 {\n",
       "            text-align:  center;\n",
       "        }    #T_e8c97374_f81d_11ea_984f_4074e05fbc83row1_col0 {\n",
       "            text-align:  center;\n",
       "        }    #T_e8c97374_f81d_11ea_984f_4074e05fbc83row1_col1 {\n",
       "            text-align:  center;\n",
       "        }    #T_e8c97374_f81d_11ea_984f_4074e05fbc83row2_col0 {\n",
       "            text-align:  center;\n",
       "        }    #T_e8c97374_f81d_11ea_984f_4074e05fbc83row2_col1 {\n",
       "            text-align:  center;\n",
       "        }    #T_e8c97374_f81d_11ea_984f_4074e05fbc83row3_col0 {\n",
       "            text-align:  center;\n",
       "        }    #T_e8c97374_f81d_11ea_984f_4074e05fbc83row3_col1 {\n",
       "            text-align:  center;\n",
       "        }    #T_e8c97374_f81d_11ea_984f_4074e05fbc83row4_col0 {\n",
       "            text-align:  center;\n",
       "        }    #T_e8c97374_f81d_11ea_984f_4074e05fbc83row4_col1 {\n",
       "            text-align:  center;\n",
       "        }</style><table id=\"T_e8c97374_f81d_11ea_984f_4074e05fbc83\" ><thead>    <tr>        <th class=\"blank level0\" ></th>        <th class=\"col_heading level0 col0\" >x</th>        <th class=\"col_heading level0 col1\" >y</th>    </tr></thead><tbody>\n",
       "                <tr>\n",
       "                        <th id=\"T_e8c97374_f81d_11ea_984f_4074e05fbc83level0_row0\" class=\"row_heading level0 row0\" ><img src=\"https://raw.githubusercontent.com/dimitris1ps/country_flags/master/flags/flag-of-United-Kingdom.png\" width=\"40\" ></th>\n",
       "                        <td id=\"T_e8c97374_f81d_11ea_984f_4074e05fbc83row0_col0\" class=\"data row0 col0\" >1</td>\n",
       "                        <td id=\"T_e8c97374_f81d_11ea_984f_4074e05fbc83row0_col1\" class=\"data row0 col1\" >5</td>\n",
       "            </tr>\n",
       "            <tr>\n",
       "                        <th id=\"T_e8c97374_f81d_11ea_984f_4074e05fbc83level0_row1\" class=\"row_heading level0 row1\" ><img src=\"https://raw.githubusercontent.com/dimitris1ps/country_flags/master/flags/flag-of-Germany.png\" width=\"40\" ></th>\n",
       "                        <td id=\"T_e8c97374_f81d_11ea_984f_4074e05fbc83row1_col0\" class=\"data row1 col0\" >2</td>\n",
       "                        <td id=\"T_e8c97374_f81d_11ea_984f_4074e05fbc83row1_col1\" class=\"data row1 col1\" >4</td>\n",
       "            </tr>\n",
       "            <tr>\n",
       "                        <th id=\"T_e8c97374_f81d_11ea_984f_4074e05fbc83level0_row2\" class=\"row_heading level0 row2\" ><img src=\"https://raw.githubusercontent.com/dimitris1ps/country_flags/master/flags/flag-of-France.png\" width=\"40\" ></th>\n",
       "                        <td id=\"T_e8c97374_f81d_11ea_984f_4074e05fbc83row2_col0\" class=\"data row2 col0\" >3</td>\n",
       "                        <td id=\"T_e8c97374_f81d_11ea_984f_4074e05fbc83row2_col1\" class=\"data row2 col1\" >3</td>\n",
       "            </tr>\n",
       "            <tr>\n",
       "                        <th id=\"T_e8c97374_f81d_11ea_984f_4074e05fbc83level0_row3\" class=\"row_heading level0 row3\" ><img src=\"https://raw.githubusercontent.com/dimitris1ps/country_flags/master/flags/flag-of-Italy.png\" width=\"40\" ></th>\n",
       "                        <td id=\"T_e8c97374_f81d_11ea_984f_4074e05fbc83row3_col0\" class=\"data row3 col0\" >4</td>\n",
       "                        <td id=\"T_e8c97374_f81d_11ea_984f_4074e05fbc83row3_col1\" class=\"data row3 col1\" >2</td>\n",
       "            </tr>\n",
       "            <tr>\n",
       "                        <th id=\"T_e8c97374_f81d_11ea_984f_4074e05fbc83level0_row4\" class=\"row_heading level0 row4\" ><img src=\"https://raw.githubusercontent.com/dimitris1ps/country_flags/master/flags/flag-of-Greece.png\" width=\"40\" ></th>\n",
       "                        <td id=\"T_e8c97374_f81d_11ea_984f_4074e05fbc83row4_col0\" class=\"data row4 col0\" >5</td>\n",
       "                        <td id=\"T_e8c97374_f81d_11ea_984f_4074e05fbc83row4_col1\" class=\"data row4 col1\" >1</td>\n",
       "            </tr>\n",
       "    </tbody></table>"
      ],
      "text/plain": [
       "<pandas.io.formats.style.Styler at 0x11c11f22c48>"
      ]
     },
     "execution_count": 10,
     "metadata": {},
     "output_type": "execute_result"
    }
   ],
   "source": [
    "# print as html\n",
    "df.style.set_properties(**{'text-align': 'center'})"
   ]
  },
  {
   "cell_type": "code",
   "execution_count": 11,
   "metadata": {
    "ExecuteTime": {
     "end_time": "2020-09-16T13:09:53.173902Z",
     "start_time": "2020-09-16T13:09:53.157477Z"
    }
   },
   "outputs": [
    {
     "data": {
      "text/html": [
       "<style  type=\"text/css\" >\n",
       "    #T_e8cc65e2_f81d_11ea_9b3d_4074e05fbc83row0_col0 {\n",
       "            text-align:  center;\n",
       "        }    #T_e8cc65e2_f81d_11ea_9b3d_4074e05fbc83row0_col1 {\n",
       "            text-align:  center;\n",
       "        }    #T_e8cc65e2_f81d_11ea_9b3d_4074e05fbc83row0_col2 {\n",
       "            text-align:  center;\n",
       "        }    #T_e8cc65e2_f81d_11ea_9b3d_4074e05fbc83row0_col3 {\n",
       "            text-align:  center;\n",
       "        }    #T_e8cc65e2_f81d_11ea_9b3d_4074e05fbc83row0_col4 {\n",
       "            text-align:  center;\n",
       "        }    #T_e8cc65e2_f81d_11ea_9b3d_4074e05fbc83row1_col0 {\n",
       "            text-align:  center;\n",
       "        }    #T_e8cc65e2_f81d_11ea_9b3d_4074e05fbc83row1_col1 {\n",
       "            text-align:  center;\n",
       "        }    #T_e8cc65e2_f81d_11ea_9b3d_4074e05fbc83row1_col2 {\n",
       "            text-align:  center;\n",
       "        }    #T_e8cc65e2_f81d_11ea_9b3d_4074e05fbc83row1_col3 {\n",
       "            text-align:  center;\n",
       "        }    #T_e8cc65e2_f81d_11ea_9b3d_4074e05fbc83row1_col4 {\n",
       "            text-align:  center;\n",
       "        }</style><table id=\"T_e8cc65e2_f81d_11ea_9b3d_4074e05fbc83\" ><thead>    <tr>        <th class=\"blank level0\" ></th>        <th class=\"col_heading level0 col0\" ><img src=\"https://raw.githubusercontent.com/dimitris1ps/country_flags/master/flags/flag-of-United-Kingdom.png\" width=\"40\" ></th>        <th class=\"col_heading level0 col1\" ><img src=\"https://raw.githubusercontent.com/dimitris1ps/country_flags/master/flags/flag-of-Germany.png\" width=\"40\" ></th>        <th class=\"col_heading level0 col2\" ><img src=\"https://raw.githubusercontent.com/dimitris1ps/country_flags/master/flags/flag-of-France.png\" width=\"40\" ></th>        <th class=\"col_heading level0 col3\" ><img src=\"https://raw.githubusercontent.com/dimitris1ps/country_flags/master/flags/flag-of-Italy.png\" width=\"40\" ></th>        <th class=\"col_heading level0 col4\" ><img src=\"https://raw.githubusercontent.com/dimitris1ps/country_flags/master/flags/flag-of-Greece.png\" width=\"40\" ></th>    </tr></thead><tbody>\n",
       "                <tr>\n",
       "                        <th id=\"T_e8cc65e2_f81d_11ea_9b3d_4074e05fbc83level0_row0\" class=\"row_heading level0 row0\" >x</th>\n",
       "                        <td id=\"T_e8cc65e2_f81d_11ea_9b3d_4074e05fbc83row0_col0\" class=\"data row0 col0\" >1</td>\n",
       "                        <td id=\"T_e8cc65e2_f81d_11ea_9b3d_4074e05fbc83row0_col1\" class=\"data row0 col1\" >2</td>\n",
       "                        <td id=\"T_e8cc65e2_f81d_11ea_9b3d_4074e05fbc83row0_col2\" class=\"data row0 col2\" >3</td>\n",
       "                        <td id=\"T_e8cc65e2_f81d_11ea_9b3d_4074e05fbc83row0_col3\" class=\"data row0 col3\" >4</td>\n",
       "                        <td id=\"T_e8cc65e2_f81d_11ea_9b3d_4074e05fbc83row0_col4\" class=\"data row0 col4\" >5</td>\n",
       "            </tr>\n",
       "            <tr>\n",
       "                        <th id=\"T_e8cc65e2_f81d_11ea_9b3d_4074e05fbc83level0_row1\" class=\"row_heading level0 row1\" >y</th>\n",
       "                        <td id=\"T_e8cc65e2_f81d_11ea_9b3d_4074e05fbc83row1_col0\" class=\"data row1 col0\" >5</td>\n",
       "                        <td id=\"T_e8cc65e2_f81d_11ea_9b3d_4074e05fbc83row1_col1\" class=\"data row1 col1\" >4</td>\n",
       "                        <td id=\"T_e8cc65e2_f81d_11ea_9b3d_4074e05fbc83row1_col2\" class=\"data row1 col2\" >3</td>\n",
       "                        <td id=\"T_e8cc65e2_f81d_11ea_9b3d_4074e05fbc83row1_col3\" class=\"data row1 col3\" >2</td>\n",
       "                        <td id=\"T_e8cc65e2_f81d_11ea_9b3d_4074e05fbc83row1_col4\" class=\"data row1 col4\" >1</td>\n",
       "            </tr>\n",
       "    </tbody></table>"
      ],
      "text/plain": [
       "<pandas.io.formats.style.Styler at 0x11c132cee88>"
      ]
     },
     "execution_count": 11,
     "metadata": {},
     "output_type": "execute_result"
    }
   ],
   "source": [
    "df.T.style.set_properties(**{'text-align': 'center'})"
   ]
  },
  {
   "cell_type": "markdown",
   "metadata": {},
   "source": [
    "Alternative approach"
   ]
  },
  {
   "cell_type": "code",
   "execution_count": 12,
   "metadata": {
    "ExecuteTime": {
     "end_time": "2020-09-16T13:09:53.193095Z",
     "start_time": "2020-09-16T13:09:53.176421Z"
    }
   },
   "outputs": [],
   "source": [
    "def path_to_image_html(path, width=25):\n",
    "    return f'<img src=\"{path}\" width=\"{width}\" >'"
   ]
  },
  {
   "cell_type": "code",
   "execution_count": 13,
   "metadata": {
    "ExecuteTime": {
     "end_time": "2020-09-16T13:09:53.421523Z",
     "start_time": "2020-09-16T13:09:53.195218Z"
    }
   },
   "outputs": [],
   "source": [
    "# dummy data\n",
    "df = pd.DataFrame({'x':[1, 2, 3, 4, 5], 'y':[5, 4, 3, 2, 1]}, index=['GB', 'DE', 'FR', 'IT', 'GR'])\n",
    "df = df.reset_index().rename(columns={'index':'country'})\n",
    "\n",
    "# read in png flag urls dataset\n",
    "df_flags = pd.read_csv('https://raw.githubusercontent.com/dimitris1ps/country_flags/master/countries_flags.csv')\n",
    "\n",
    "# kepp relevant countries\n",
    "flags_dict = df_flags[['Code', 'Flag']].set_index('Code').to_dict()['Flag']\n",
    "\n",
    "# replae countries with img tag\n",
    "df['country'] = df['country'].map(flags_dict)"
   ]
  },
  {
   "cell_type": "code",
   "execution_count": 14,
   "metadata": {
    "ExecuteTime": {
     "end_time": "2020-09-16T13:09:53.433892Z",
     "start_time": "2020-09-16T13:09:53.423528Z"
    }
   },
   "outputs": [
    {
     "data": {
      "text/html": [
       "<table border=\"1\" class=\"dataframe\">\n",
       "  <thead>\n",
       "    <tr style=\"text-align: right;\">\n",
       "      <th>country</th>\n",
       "      <th>x</th>\n",
       "      <th>y</th>\n",
       "    </tr>\n",
       "  </thead>\n",
       "  <tbody>\n",
       "    <tr>\n",
       "      <td><img src=\"https://raw.githubusercontent.com/dimitris1ps/country_flags/master/flags/flag-of-United-Kingdom.png\" width=\"50\" ></td>\n",
       "      <td>1</td>\n",
       "      <td>5</td>\n",
       "    </tr>\n",
       "    <tr>\n",
       "      <td><img src=\"https://raw.githubusercontent.com/dimitris1ps/country_flags/master/flags/flag-of-Germany.png\" width=\"50\" ></td>\n",
       "      <td>2</td>\n",
       "      <td>4</td>\n",
       "    </tr>\n",
       "    <tr>\n",
       "      <td><img src=\"https://raw.githubusercontent.com/dimitris1ps/country_flags/master/flags/flag-of-France.png\" width=\"50\" ></td>\n",
       "      <td>3</td>\n",
       "      <td>3</td>\n",
       "    </tr>\n",
       "    <tr>\n",
       "      <td><img src=\"https://raw.githubusercontent.com/dimitris1ps/country_flags/master/flags/flag-of-Italy.png\" width=\"50\" ></td>\n",
       "      <td>4</td>\n",
       "      <td>2</td>\n",
       "    </tr>\n",
       "    <tr>\n",
       "      <td><img src=\"https://raw.githubusercontent.com/dimitris1ps/country_flags/master/flags/flag-of-Greece.png\" width=\"50\" ></td>\n",
       "      <td>5</td>\n",
       "      <td>1</td>\n",
       "    </tr>\n",
       "  </tbody>\n",
       "</table>"
      ],
      "text/plain": [
       "<IPython.core.display.HTML object>"
      ]
     },
     "execution_count": 14,
     "metadata": {},
     "output_type": "execute_result"
    }
   ],
   "source": [
    "HTML(df.to_html(index=False, escape=False, formatters=dict(country=lambda x: path_to_image_html(x, width=50))))"
   ]
  },
  {
   "cell_type": "markdown",
   "metadata": {},
   "source": [
    "Image in chart"
   ]
  },
  {
   "cell_type": "code",
   "execution_count": 15,
   "metadata": {
    "ExecuteTime": {
     "end_time": "2020-09-16T13:09:53.453525Z",
     "start_time": "2020-09-16T13:09:53.436893Z"
    }
   },
   "outputs": [],
   "source": [
    "apps = {\n",
    "          'discord':{'color':'#7289da','imgUrl':'https://i.ibb.co/zbWkwbV/discord.png'},\n",
    "          'Facebook':{'color':'#4267B2', 'imgUrl':'https://i.ibb.co/cC0Xwfp/Facebook.png'}, \n",
    "          'Instagram':{'color':'#C13584','imgUrl':'https://i.ibb.co/g926NSd/Instagram.png'}, \n",
    "          'Line':{'color':'#00c300','imgUrl':'https://i.ibb.co/mXpqLmG/Line.png'}, \n",
    "          'Messenger':{'color':'#0084ff','imgUrl':'https://i.ibb.co/Xxr3QgF/Messenger.png'}, \n",
    "          'Pinterest':{'color':'#E60023','imgUrl':'https://i.ibb.co/GsqNyW5/Pinterest.png'}, \n",
    "          'Snapchat':{'color':'#fffc00','imgUrl':'https://i.ibb.co/NmfkBd1/Snapchat.png'}, \n",
    "          'Telegram':{'color':'#0088cc','imgUrl':'https://i.ibb.co/xSfsx9f/Telegram.png'}, \n",
    "          'TikTok':{'color':'#000000','imgUrl':'https://i.ibb.co/d7TWBZc/TikTok.png'}, \n",
    "          'Twitch':{'color':'#6441a5','imgUrl':'https://i.ibb.co/Z82L2kH/Twitch.png'}, \n",
    "          'Twitter':{'color':'#1da1f2','imgUrl': 'https://i.ibb.co/bL8V53Q/Twitter.png'}, \n",
    "          'WhatsApp':{'color':'#25D366','imgUrl': 'https://i.ibb.co/0XGbzrD/WhatsApp.png'}, \n",
    "          'Youtube':{'color':'#FF0000','imgUrl': 'https://i.ibb.co/gwRySXY/Youtube.png'}\n",
    "         }"
   ]
  },
  {
   "cell_type": "code",
   "execution_count": 16,
   "metadata": {
    "ExecuteTime": {
     "end_time": "2020-09-16T13:09:53.469678Z",
     "start_time": "2020-09-16T13:09:53.456486Z"
    }
   },
   "outputs": [],
   "source": [
    "# [x , y]\n",
    "imgLocation = {\n",
    "          'discord': [1.28, 1.07],          \n",
    "          'Facebook': [1, 1.07], \n",
    "          'Instagram': [1.01, 1.1],\n",
    "          'Line': [3, 1.01],\n",
    "          'Messenger': [1, 1.25],\n",
    "          'Pinterest': [1.1, 1.2],\n",
    "          'Snapchat': [1, 1.15],\n",
    "          'Telegram': [2, 1.12],\n",
    "          'TikTok': [1, 1.1],\n",
    "          'Twitch': [1.7, 1],\n",
    "          'Twitter': [1, 1.16], \n",
    "          'WhatsApp': [1, 1.15], \n",
    "          'Youtube': [1, 0.96]\n",
    "         }\n",
    "\n",
    "imgZoom = {\n",
    "          'discord':0.5,          \n",
    "          'Facebook':0.5,\n",
    "          'Instagram':0.5,\n",
    "          'Line':0.5,\n",
    "          'Messenger':0.5,\n",
    "          'Pinterest':0.5,\n",
    "          'Snapchat':0.5,\n",
    "          'Telegram':0.5,\n",
    "          'TikTok':0.5,\n",
    "          'Twitch':0.5,\n",
    "          'Twitter':0.5,\n",
    "          'WhatsApp':0.5,\n",
    "          'Youtube':0.5\n",
    "         }"
   ]
  },
  {
   "cell_type": "code",
   "execution_count": 17,
   "metadata": {
    "ExecuteTime": {
     "end_time": "2020-09-16T13:09:53.483205Z",
     "start_time": "2020-09-16T13:09:53.472134Z"
    }
   },
   "outputs": [],
   "source": [
    "df = pd.DataFrame({'App':['discord', 'Snapchat', 'Telegram', 'TikTok', 'Twitch'], 'x':[1, 2, 3, 4, 5], 'y':[5, 4, 3, 2, 1]})"
   ]
  },
  {
   "cell_type": "code",
   "execution_count": 18,
   "metadata": {
    "ExecuteTime": {
     "end_time": "2020-09-16T13:09:53.503975Z",
     "start_time": "2020-09-16T13:09:53.485891Z"
    }
   },
   "outputs": [
    {
     "data": {
      "text/html": [
       "<div>\n",
       "<style scoped>\n",
       "    .dataframe tbody tr th:only-of-type {\n",
       "        vertical-align: middle;\n",
       "    }\n",
       "\n",
       "    .dataframe tbody tr th {\n",
       "        vertical-align: top;\n",
       "    }\n",
       "\n",
       "    .dataframe thead th {\n",
       "        text-align: right;\n",
       "    }\n",
       "</style>\n",
       "<table border=\"1\" class=\"dataframe\">\n",
       "  <thead>\n",
       "    <tr style=\"text-align: right;\">\n",
       "      <th></th>\n",
       "      <th>App</th>\n",
       "      <th>x</th>\n",
       "      <th>y</th>\n",
       "    </tr>\n",
       "  </thead>\n",
       "  <tbody>\n",
       "    <tr>\n",
       "      <th>0</th>\n",
       "      <td>discord</td>\n",
       "      <td>1</td>\n",
       "      <td>5</td>\n",
       "    </tr>\n",
       "    <tr>\n",
       "      <th>1</th>\n",
       "      <td>Snapchat</td>\n",
       "      <td>2</td>\n",
       "      <td>4</td>\n",
       "    </tr>\n",
       "    <tr>\n",
       "      <th>2</th>\n",
       "      <td>Telegram</td>\n",
       "      <td>3</td>\n",
       "      <td>3</td>\n",
       "    </tr>\n",
       "    <tr>\n",
       "      <th>3</th>\n",
       "      <td>TikTok</td>\n",
       "      <td>4</td>\n",
       "      <td>2</td>\n",
       "    </tr>\n",
       "    <tr>\n",
       "      <th>4</th>\n",
       "      <td>Twitch</td>\n",
       "      <td>5</td>\n",
       "      <td>1</td>\n",
       "    </tr>\n",
       "  </tbody>\n",
       "</table>\n",
       "</div>"
      ],
      "text/plain": [
       "        App  x  y\n",
       "0   discord  1  5\n",
       "1  Snapchat  2  4\n",
       "2  Telegram  3  3\n",
       "3    TikTok  4  2\n",
       "4    Twitch  5  1"
      ]
     },
     "execution_count": 18,
     "metadata": {},
     "output_type": "execute_result"
    }
   ],
   "source": [
    "df"
   ]
  },
  {
   "cell_type": "code",
   "execution_count": 22,
   "metadata": {
    "ExecuteTime": {
     "end_time": "2020-09-16T13:10:42.493997Z",
     "start_time": "2020-09-16T13:10:41.426895Z"
    }
   },
   "outputs": [
    {
     "data": {
      "image/png": "[encoded data removed]",
      "text/plain": [
       "<Figure size 1152x648 with 1 Axes>"
      ]
     },
     "metadata": {},
     "output_type": "display_data"
    }
   ],
   "source": [
    "plt.style.use('fivethirtyeight')\n",
    "\n",
    "fig = plt.figure()\n",
    "fig.set_size_inches(16, 9)\n",
    "ax = plt.axes()\n",
    "\n",
    "# include brand images\n",
    "for app in df['App'].unique():\n",
    "    df_row = df[df['App'] == app]\n",
    "\n",
    "    img = Image.open(requests.get(apps[app]['imgUrl'], stream=True).raw)\n",
    "    img = OffsetImage(img, zoom=imgZoom[app]*2)\n",
    "\n",
    "    ab = AnnotationBbox(img, (float(df_row['x']), float(df_row['y'])), frameon=False)\n",
    "    ax.add_artist(ab)\n",
    "\n",
    "ax.scatter(x=5, y=5, c='white', s=0)\n",
    "# ax.annotate('', xy=(0,0), xytext=(0,0), arrowprops={'arrowstyle': '->', 'lw': 2.5, 'color': 'white'}, va='center')\n",
    "\n",
    "\n",
    "ax.set_ylabel('Y Label', size=15, fontweight='bold')\n",
    "ax.set_xlabel('X Label', size=15, fontweight='bold')\n",
    "ax.set_title('Title', size=20)\n",
    "\n",
    "ax.tick_params(axis='x', labelsize=15)\n",
    "ax.tick_params(axis='y', labelsize=15)\n",
    "\n",
    "ax.set_xlim(xmin=0)\n",
    "ax.set_ylim(ymin=0)\n",
    "\n",
    "\n",
    "ax.xaxis.set_major_formatter(ticker.EngFormatter())\n",
    "\n",
    "plt.show();"
   ]
  },
  {
   "cell_type": "code",
   "execution_count": null,
   "metadata": {},
   "outputs": [],
   "source": []
  }
 ],
 "metadata": {
  "hide_input": false,
  "kernelspec": {
   "display_name": "Python 3",
   "language": "python",
   "name": "python3"
  },
  "language_info": {
   "codemirror_mode": {
    "name": "ipython",
    "version": 3
   },
   "file_extension": ".py",
   "mimetype": "text/x-python",
   "name": "python",
   "nbconvert_exporter": "python",
   "pygments_lexer": "ipython3",
   "version": "3.7.4"
  },
  "varInspector": {
   "cols": {
    "lenName": 16,
    "lenType": 16,
    "lenVar": 40
   },
   "kernels_config": {
    "python": {
     "delete_cmd_postfix": "",
     "delete_cmd_prefix": "del ",
     "library": "var_list.py",
     "varRefreshCmd": "print(var_dic_list())"
    },
    "r": {
     "delete_cmd_postfix": ") ",
     "delete_cmd_prefix": "rm(",
     "library": "var_list.r",
     "varRefreshCmd": "cat(var_dic_list()) "
    }
   },
   "types_to_exclude": [
    "module",
    "function",
    "builtin_function_or_method",
    "instance",
    "_Feature"
   ],
   "window_display": false
  }
 },
 "nbformat": 4,
 "nbformat_minor": 2
}
